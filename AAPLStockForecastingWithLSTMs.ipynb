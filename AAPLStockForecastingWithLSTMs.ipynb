{
  "nbformat": 4,
  "nbformat_minor": 0,
  "metadata": {
    "colab": {
      "name": "AAPLStockForecastingWithLSTMs.ipynb",
      "provenance": [],
      "collapsed_sections": [],
      "mount_file_id": "1nDUTARtUBkH9U_NK6lU_gDS1AYeTfEM5",
      "authorship_tag": "ABX9TyPg5ejDtKZ/b1CrjNGkDcE6",
      "include_colab_link": true
    },
    "kernelspec": {
      "name": "python3",
      "display_name": "Python 3"
    },
    "language_info": {
      "name": "python"
    }
  },
  "cells": [
    {
      "cell_type": "markdown",
      "metadata": {
        "id": "view-in-github",
        "colab_type": "text"
      },
      "source": [
        "<a href=\"https://colab.research.google.com/github/byrongomezjr/AAPLStockForecastingWithLSTM/blob/main/AAPLStockForecastingWithLSTMs.ipynb\" target=\"_parent\"><img src=\"https://colab.research.google.com/assets/colab-badge.svg\" alt=\"Open In Colab\"/></a>"
      ]
    },
    {
      "cell_type": "code",
      "execution_count": 199,
      "metadata": {
        "id": "y-MuLBJquZQy"
      },
      "outputs": [],
      "source": [
        "import pandas as pd\n",
        "import numpy as np\n",
        "import matplotlib.pyplot as plt"
      ]
    },
    {
      "cell_type": "markdown",
      "source": [
        "#load dataset"
      ],
      "metadata": {
        "id": "M9_EKBxc2qwx"
      }
    },
    {
      "cell_type": "code",
      "source": [
        "#load dataset\n",
        "from google.colab import files\n",
        "dataset = files.upload()"
      ],
      "metadata": {
        "colab": {
          "resources": {
            "http://localhost:8080/nbextensions/google.colab/files.js": {
              "data": "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",
              "ok": true,
              "headers": [
                [
                  "content-type",
                  "application/javascript"
                ]
              ],
              "status": 200,
              "status_text": ""
            }
          },
          "base_uri": "https://localhost:8080/",
          "height": 73
        },
        "id": "F6hbOLGCvKGl",
        "outputId": "15587584-e6a4-4081-bd08-1c70caf7f6c3"
      },
      "execution_count": 200,
      "outputs": [
        {
          "output_type": "display_data",
          "data": {
            "text/plain": [
              "<IPython.core.display.HTML object>"
            ],
            "text/html": [
              "\n",
              "     <input type=\"file\" id=\"files-52e0985a-a984-464f-ae81-ab5f5818b387\" name=\"files[]\" multiple disabled\n",
              "        style=\"border:none\" />\n",
              "     <output id=\"result-52e0985a-a984-464f-ae81-ab5f5818b387\">\n",
              "      Upload widget is only available when the cell has been executed in the\n",
              "      current browser session. Please rerun this cell to enable.\n",
              "      </output>\n",
              "      <script src=\"/nbextensions/google.colab/files.js\"></script> "
            ]
          },
          "metadata": {}
        },
        {
          "output_type": "stream",
          "name": "stdout",
          "text": [
            "Saving AAPL.csv to AAPL (1).csv\n"
          ]
        }
      ]
    },
    {
      "cell_type": "code",
      "source": [
        "df = pd.read_csv('AAPL.csv')"
      ],
      "metadata": {
        "id": "NS3pY7NrwD7f"
      },
      "execution_count": 331,
      "outputs": []
    },
    {
      "cell_type": "code",
      "source": [
        "df.shape"
      ],
      "metadata": {
        "colab": {
          "base_uri": "https://localhost:8080/"
        },
        "id": "rvXrx-lVxQwz",
        "outputId": "665c2fb8-6c64-4765-c177-38d7009bca78"
      },
      "execution_count": 332,
      "outputs": [
        {
          "output_type": "execute_result",
          "data": {
            "text/plain": [
              "(2393, 7)"
            ]
          },
          "metadata": {},
          "execution_count": 332
        }
      ]
    },
    {
      "cell_type": "code",
      "source": [
        "df = df['Open'].values\n",
        "df = df.reshape(-1,1)"
      ],
      "metadata": {
        "id": "8z-2nMvLxUan"
      },
      "execution_count": 333,
      "outputs": []
    },
    {
      "cell_type": "code",
      "source": [
        "df.shape"
      ],
      "metadata": {
        "colab": {
          "base_uri": "https://localhost:8080/"
        },
        "id": "Bq_pS4P5xl7v",
        "outputId": "94c7e3c8-e1a2-4e43-d350-3128cad3ce75"
      },
      "execution_count": 334,
      "outputs": [
        {
          "output_type": "execute_result",
          "data": {
            "text/plain": [
              "(2393, 1)"
            ]
          },
          "metadata": {},
          "execution_count": 334
        }
      ]
    },
    {
      "cell_type": "code",
      "source": [
        "dataset_train = np.array(df[:int(df.shape[0]*0.8)])\n",
        "dataset_test = np.array(df[int(df.shape[0]*0.8):])\n",
        "\n",
        "print(dataset_train.shape)\n",
        "print(dataset_test.shape)"
      ],
      "metadata": {
        "colab": {
          "base_uri": "https://localhost:8080/"
        },
        "id": "BV8xKub4xl9Z",
        "outputId": "c3c65f5d-57d6-4229-e92b-b074799fff63"
      },
      "execution_count": 335,
      "outputs": [
        {
          "output_type": "stream",
          "name": "stdout",
          "text": [
            "(1914, 1)\n",
            "(479, 1)\n"
          ]
        }
      ]
    },
    {
      "cell_type": "markdown",
      "source": [
        "#importing the module"
      ],
      "metadata": {
        "id": "5rQRiGRB2l0D"
      }
    },
    {
      "cell_type": "code",
      "source": [
        "from sklearn.preprocessing import MinMaxScaler\n",
        "from keras.models import Sequential, load_model\n",
        "from keras.layers import LSTM, Dense, Dropout"
      ],
      "metadata": {
        "id": "F6gOeiwry0ac"
      },
      "execution_count": 336,
      "outputs": []
    },
    {
      "cell_type": "markdown",
      "source": [
        "#scaling data"
      ],
      "metadata": {
        "id": "Fexy7L9n2e5a"
      }
    },
    {
      "cell_type": "code",
      "source": [
        "scaler = MinMaxScaler(feature_range=(0,1))\n",
        "dataset_train = scaler.fit_transform(dataset_train)\n",
        "dataset_test = scaler.transform(dataset_test)\n",
        "dataset_train[:5]"
      ],
      "metadata": {
        "colab": {
          "base_uri": "https://localhost:8080/"
        },
        "id": "yLU60ZPTx-z6",
        "outputId": "0459a06d-f295-4633-825e-26e4cad3fb31"
      },
      "execution_count": 337,
      "outputs": [
        {
          "output_type": "execute_result",
          "data": {
            "text/plain": [
              "array([[0.04706981],\n",
              "       [0.04585156],\n",
              "       [0.0459415 ],\n",
              "       [0.06216872],\n",
              "       [0.05994212]])"
            ]
          },
          "metadata": {},
          "execution_count": 337
        }
      ]
    },
    {
      "cell_type": "code",
      "source": [
        "dataset_test = scaler.transform(dataset_test)\n",
        "dataset_test[:5]"
      ],
      "metadata": {
        "colab": {
          "base_uri": "https://localhost:8080/"
        },
        "id": "occa_SWT3LNI",
        "outputId": "01894fa5-ddde-4e84-f8ba-f18630e69036"
      },
      "execution_count": 338,
      "outputs": [
        {
          "output_type": "execute_result",
          "data": {
            "text/plain": [
              "array([[-0.13490744],\n",
              "       [-0.13479425],\n",
              "       [-0.1344858 ],\n",
              "       [-0.13455245],\n",
              "       [-0.13462185]])"
            ]
          },
          "metadata": {},
          "execution_count": 338
        }
      ]
    },
    {
      "cell_type": "markdown",
      "source": [
        "# creating our datasets"
      ],
      "metadata": {
        "id": "xDTN5sTf37jb"
      }
    },
    {
      "cell_type": "code",
      "source": [
        "def create_dataset(df):\n",
        "  x = []\n",
        "  y = []\n",
        "  for i in range(50, df.shape[0]):\n",
        "    x.append(df[i-50:i, 0])\n",
        "    y.append(df[i, 0])\n",
        "  x = np.array(x)\n",
        "  y = np.array(y)\n",
        "  return x,y"
      ],
      "metadata": {
        "id": "38g3WXbE2uD0"
      },
      "execution_count": 339,
      "outputs": []
    },
    {
      "cell_type": "markdown",
      "source": [
        "# training and testing data"
      ],
      "metadata": {
        "id": "CtwCxvCR4AsO"
      }
    },
    {
      "cell_type": "code",
      "source": [
        "x_train, y_train = create_dataset(dataset_train)\n",
        "x_test, y_test = create_dataset(dataset_test)"
      ],
      "metadata": {
        "id": "pILBzfiu3jzM"
      },
      "execution_count": 340,
      "outputs": []
    },
    {
      "cell_type": "markdown",
      "source": [
        "# reshaping our data, turning it into a 3D array"
      ],
      "metadata": {
        "id": "Ckz6uPTM4Eog"
      }
    },
    {
      "cell_type": "code",
      "source": [
        "x_train = np.reshape(x_train, (x_train.shape[0], x_train.shape[1], 1))\n",
        "x_test = np.reshape(x_test, (x_test.shape[0], x_test.shape[1], 1))"
      ],
      "metadata": {
        "id": "3_relzw54Sb6"
      },
      "execution_count": 341,
      "outputs": []
    },
    {
      "cell_type": "markdown",
      "source": [
        "#model building"
      ],
      "metadata": {
        "id": "y5iT8Ajk4zud"
      }
    },
    {
      "cell_type": "code",
      "source": [
        "model = Sequential()\n",
        "model.add(LSTM(units=16, return_sequences=True, input_shape=(x_train.shape[1], 1)))\n",
        "model.add(Dropout(0.2))\n",
        "model.add(LSTM(units=32, return_sequences=False))\n",
        "model.add(Dropout(0.2))\n",
        "model.add(Dense(units=1))"
      ],
      "metadata": {
        "id": "UHRl7y9V41r-"
      },
      "execution_count": 342,
      "outputs": []
    },
    {
      "cell_type": "code",
      "source": [
        "x_train = np.reshape(x_train, (x_train.shape[0], x_train.shape[1], 1))\n",
        "x_test = np.reshape(x_test, (x_test.shape[0], x_test.shape[1], 1))"
      ],
      "metadata": {
        "id": "FTm5lNA-6DjO"
      },
      "execution_count": 343,
      "outputs": []
    },
    {
      "cell_type": "code",
      "source": [
        "model.compile(loss='mean_squared_error', optimizer='adam')"
      ],
      "metadata": {
        "id": "NFdabqfq6RhJ"
      },
      "execution_count": 344,
      "outputs": []
    },
    {
      "cell_type": "markdown",
      "source": [
        "# start training"
      ],
      "metadata": {
        "id": "iaIJzCMd7sXh"
      }
    },
    {
      "cell_type": "code",
      "source": [
        "model.fit(x_train, y_train, epochs=50, batch_size=32)\n",
        "model.save('AAPL_stock_prediction.h5')"
      ],
      "metadata": {
        "colab": {
          "base_uri": "https://localhost:8080/"
        },
        "id": "yS9CZA1m7vjb",
        "outputId": "4ee26f0d-6aa0-4163-b54e-16b9237e9469"
      },
      "execution_count": 215,
      "outputs": [
        {
          "output_type": "stream",
          "name": "stdout",
          "text": [
            "Epoch 1/50\n",
            "59/59 [==============================] - 14s 114ms/step - loss: 0.0084\n",
            "Epoch 2/50\n",
            "59/59 [==============================] - 7s 112ms/step - loss: 0.0020\n",
            "Epoch 3/50\n",
            "59/59 [==============================] - 7s 110ms/step - loss: 0.0020\n",
            "Epoch 4/50\n",
            "59/59 [==============================] - 7s 111ms/step - loss: 0.0015\n",
            "Epoch 5/50\n",
            "59/59 [==============================] - 7s 113ms/step - loss: 0.0015\n",
            "Epoch 6/50\n",
            "59/59 [==============================] - 7s 112ms/step - loss: 0.0015\n",
            "Epoch 7/50\n",
            "59/59 [==============================] - 7s 126ms/step - loss: 0.0014\n",
            "Epoch 8/50\n",
            "59/59 [==============================] - 7s 111ms/step - loss: 0.0015\n",
            "Epoch 9/50\n",
            "59/59 [==============================] - 7s 113ms/step - loss: 0.0013\n",
            "Epoch 10/50\n",
            "59/59 [==============================] - 7s 112ms/step - loss: 0.0011\n",
            "Epoch 11/50\n",
            "59/59 [==============================] - 7s 111ms/step - loss: 0.0013\n",
            "Epoch 12/50\n",
            "59/59 [==============================] - 7s 120ms/step - loss: 0.0012\n",
            "Epoch 13/50\n",
            "59/59 [==============================] - 7s 112ms/step - loss: 0.0010\n",
            "Epoch 14/50\n",
            "59/59 [==============================] - 6s 110ms/step - loss: 0.0011\n",
            "Epoch 15/50\n",
            "59/59 [==============================] - 7s 112ms/step - loss: 8.6860e-04\n",
            "Epoch 16/50\n",
            "59/59 [==============================] - 6s 109ms/step - loss: 0.0013\n",
            "Epoch 17/50\n",
            "59/59 [==============================] - 6s 110ms/step - loss: 0.0011\n",
            "Epoch 18/50\n",
            "59/59 [==============================] - 7s 112ms/step - loss: 8.6170e-04\n",
            "Epoch 19/50\n",
            "59/59 [==============================] - 7s 111ms/step - loss: 8.9997e-04\n",
            "Epoch 20/50\n",
            "59/59 [==============================] - 7s 110ms/step - loss: 8.9103e-04\n",
            "Epoch 21/50\n",
            "59/59 [==============================] - 7s 112ms/step - loss: 7.6884e-04\n",
            "Epoch 22/50\n",
            "59/59 [==============================] - 7s 111ms/step - loss: 9.3156e-04\n",
            "Epoch 23/50\n",
            "59/59 [==============================] - 7s 114ms/step - loss: 8.0987e-04\n",
            "Epoch 24/50\n",
            "59/59 [==============================] - 7s 114ms/step - loss: 7.3658e-04\n",
            "Epoch 25/50\n",
            "59/59 [==============================] - 7s 111ms/step - loss: 8.5522e-04\n",
            "Epoch 26/50\n",
            "59/59 [==============================] - 7s 117ms/step - loss: 7.9937e-04\n",
            "Epoch 27/50\n",
            "59/59 [==============================] - 8s 134ms/step - loss: 8.1808e-04\n",
            "Epoch 28/50\n",
            "59/59 [==============================] - 7s 112ms/step - loss: 9.1356e-04\n",
            "Epoch 29/50\n",
            "59/59 [==============================] - 7s 113ms/step - loss: 8.4155e-04\n",
            "Epoch 30/50\n",
            "59/59 [==============================] - 7s 111ms/step - loss: 7.4759e-04\n",
            "Epoch 31/50\n",
            "59/59 [==============================] - 7s 112ms/step - loss: 8.1935e-04\n",
            "Epoch 32/50\n",
            "59/59 [==============================] - 7s 112ms/step - loss: 6.9517e-04\n",
            "Epoch 33/50\n",
            "59/59 [==============================] - 7s 112ms/step - loss: 7.4847e-04\n",
            "Epoch 34/50\n",
            "59/59 [==============================] - 7s 113ms/step - loss: 6.8882e-04\n",
            "Epoch 35/50\n",
            "59/59 [==============================] - 7s 112ms/step - loss: 7.3820e-04\n",
            "Epoch 36/50\n",
            "59/59 [==============================] - 7s 113ms/step - loss: 6.8024e-04\n",
            "Epoch 37/50\n",
            "59/59 [==============================] - 7s 113ms/step - loss: 6.4195e-04\n",
            "Epoch 38/50\n",
            "59/59 [==============================] - 7s 111ms/step - loss: 8.6208e-04\n",
            "Epoch 39/50\n",
            "59/59 [==============================] - 7s 111ms/step - loss: 6.8276e-04\n",
            "Epoch 40/50\n",
            "59/59 [==============================] - 7s 114ms/step - loss: 8.6730e-04\n",
            "Epoch 41/50\n",
            "59/59 [==============================] - 7s 110ms/step - loss: 5.8600e-04\n",
            "Epoch 42/50\n",
            "59/59 [==============================] - 7s 113ms/step - loss: 6.2643e-04\n",
            "Epoch 43/50\n",
            "59/59 [==============================] - 7s 111ms/step - loss: 8.1151e-04\n",
            "Epoch 44/50\n",
            "59/59 [==============================] - 7s 113ms/step - loss: 5.7891e-04\n",
            "Epoch 45/50\n",
            "59/59 [==============================] - 7s 114ms/step - loss: 7.2718e-04\n",
            "Epoch 46/50\n",
            "59/59 [==============================] - 7s 113ms/step - loss: 6.8912e-04\n",
            "Epoch 47/50\n",
            "59/59 [==============================] - 7s 111ms/step - loss: 6.4665e-04\n",
            "Epoch 48/50\n",
            "59/59 [==============================] - 7s 112ms/step - loss: 6.3536e-04\n",
            "Epoch 49/50\n",
            "59/59 [==============================] - 7s 112ms/step - loss: 5.7208e-04\n",
            "Epoch 50/50\n",
            "59/59 [==============================] - 7s 116ms/step - loss: 5.6495e-04\n"
          ]
        }
      ]
    },
    {
      "cell_type": "markdown",
      "source": [
        "#loading our model"
      ],
      "metadata": {
        "id": "eQASag72FWNs"
      }
    },
    {
      "cell_type": "code",
      "source": [
        "model = load_model('AAPL_stock_prediction.h5')"
      ],
      "metadata": {
        "id": "vxCxBHXjFX-6"
      },
      "execution_count": 345,
      "outputs": []
    },
    {
      "cell_type": "markdown",
      "source": [
        "#data visualization"
      ],
      "metadata": {
        "id": "brVlGoTNFgQt"
      }
    },
    {
      "cell_type": "code",
      "source": [
        "predictions = model.predict(x_test)\n",
        "predictions = scaler.inverse_transform(predictions)\n",
        "y_test_scaled = scaler.inverse_transform(y_test.reshape(-1,1))\n",
        "\n",
        "fig, ax = plt.subplots(figsize=(10,10))\n",
        "ax.set_facecolor('#0f0f0f')\n",
        "ax.plot(y_test_scaled, color='green', label='Original Price')\n",
        "plt.plot(predictions, color='orange', label='Predicted Price')\n",
        "plt.legend()"
      ],
      "metadata": {
        "colab": {
          "base_uri": "https://localhost:8080/",
          "height": 609
        },
        "id": "QSp0tH6FFiQo",
        "outputId": "ded651b6-9359-4c06-abee-ff41fc522259"
      },
      "execution_count": 346,
      "outputs": [
        {
          "output_type": "execute_result",
          "data": {
            "text/plain": [
              "<matplotlib.legend.Legend at 0x7f2f00315450>"
            ]
          },
          "metadata": {},
          "execution_count": 346
        },
        {
          "output_type": "display_data",
          "data": {
            "text/plain": [
              "<Figure size 720x720 with 1 Axes>"
            ],
            "image/png": "[encoded data removed]"
          },
          "metadata": {
            "needs_background": "light"
          }
        }
      ]
    }
  ]
}